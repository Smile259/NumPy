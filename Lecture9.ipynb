{
 "cells": [
  {
   "cell_type": "markdown",
   "id": "1828effb",
   "metadata": {},
   "source": [
    "# Code"
   ]
  },
  {
   "cell_type": "code",
   "execution_count": 2,
   "id": "5e4444e5",
   "metadata": {},
   "outputs": [
    {
     "name": "stdout",
     "output_type": "stream",
     "text": [
      "[[1 2]\n",
      " [1 2]]\n",
      "\n",
      "(2, 2)\n"
     ]
    }
   ],
   "source": [
    "import numpy as np\n",
    "\n",
    "var = np.array([[1,2],[1,2]])\n",
    "\n",
    "print(var)\n",
    "print()\n",
    "print(var.shape)"
   ]
  },
  {
   "cell_type": "code",
   "execution_count": 4,
   "id": "86ad2132",
   "metadata": {},
   "outputs": [
    {
     "name": "stdout",
     "output_type": "stream",
     "text": [
      "[[[[1 2 3 4]]]]\n",
      "4\n",
      "\n",
      "(1, 1, 1, 4)\n"
     ]
    }
   ],
   "source": [
    "var1 = np.array([1,2,3,4],ndmin=4)\n",
    "\n",
    "print(var1)\n",
    "print(var1.ndim)\n",
    "print()\n",
    "print(var1.shape)\n"
   ]
  },
  {
   "cell_type": "markdown",
   "id": "86d4c18a",
   "metadata": {},
   "source": [
    "# Reshape"
   ]
  },
  {
   "cell_type": "code",
   "execution_count": 12,
   "id": "d0d7586b",
   "metadata": {},
   "outputs": [
    {
     "name": "stdout",
     "output_type": "stream",
     "text": [
      "[1 2 3 4 5 6]\n",
      "1\n",
      "\n",
      "[[1 2]\n",
      " [3 4]\n",
      " [5 6]]\n",
      "2\n"
     ]
    }
   ],
   "source": [
    "var2 = np.array([1,2,3,4,5,6])\n",
    "print(var2)\n",
    "print(var2.ndim)\n",
    "print()\n",
    "\n",
    "x = var2.reshape(3,2)\n",
    "\n",
    "print(x)\n",
    "print(x.ndim)"
   ]
  },
  {
   "cell_type": "code",
   "execution_count": 14,
   "id": "e02f1fa8",
   "metadata": {},
   "outputs": [
    {
     "name": "stdout",
     "output_type": "stream",
     "text": [
      "[ 1  2  3  4  5  6  7  8  9 10 11 12]\n",
      "1\n",
      "\n",
      "[[[ 1  2]\n",
      "  [ 3  4]\n",
      "  [ 5  6]]\n",
      "\n",
      " [[ 7  8]\n",
      "  [ 9 10]\n",
      "  [11 12]]]\n",
      "3\n"
     ]
    }
   ],
   "source": [
    "var3 = np.array([1,2,3,4,5,6,7,8,9,10,11,12])\n",
    "print(var3)\n",
    "print(var3.ndim)\n",
    "print()\n",
    "\n",
    "x1 = var3.reshape(2,3,2)\n",
    "\n",
    "print(x1)\n",
    "print(x1.ndim)"
   ]
  },
  {
   "cell_type": "code",
   "execution_count": 15,
   "id": "79ab78eb",
   "metadata": {},
   "outputs": [
    {
     "name": "stdout",
     "output_type": "stream",
     "text": [
      "[ 1  2  3  4  5  6  7  8  9 10 11 12]\n",
      "1\n",
      "\n",
      "[[[ 1  2]\n",
      "  [ 3  4]\n",
      "  [ 5  6]]\n",
      "\n",
      " [[ 7  8]\n",
      "  [ 9 10]\n",
      "  [11 12]]]\n",
      "3\n",
      "\n",
      "[ 1  2  3  4  5  6  7  8  9 10 11 12]\n",
      "1\n"
     ]
    }
   ],
   "source": [
    "var3 = np.array([1,2,3,4,5,6,7,8,9,10,11,12])\n",
    "print(var3)\n",
    "print(var3.ndim)\n",
    "print()\n",
    "\n",
    "x1 = var3.reshape(2,3,2)\n",
    "\n",
    "print(x1)\n",
    "print(x1.ndim)\n",
    "print()\n",
    "\n",
    "one = x1.reshape(-1)\n",
    "print(one)\n",
    "print(one.ndim)"
   ]
  }
 ],
 "metadata": {
  "kernelspec": {
   "display_name": "venv",
   "language": "python",
   "name": "python3"
  },
  "language_info": {
   "codemirror_mode": {
    "name": "ipython",
    "version": 3
   },
   "file_extension": ".py",
   "mimetype": "text/x-python",
   "name": "python",
   "nbconvert_exporter": "python",
   "pygments_lexer": "ipython3",
   "version": "3.13.7"
  }
 },
 "nbformat": 4,
 "nbformat_minor": 5
}
