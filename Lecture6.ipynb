{
 "cells": [
  {
   "cell_type": "markdown",
   "id": "3e6ee206",
   "metadata": {},
   "source": [
    "# Data Type"
   ]
  },
  {
   "cell_type": "markdown",
   "id": "7ae491a8",
   "metadata": {},
   "source": [
    "### Integer"
   ]
  },
  {
   "cell_type": "code",
   "execution_count": 44,
   "id": "efbcdbbd",
   "metadata": {},
   "outputs": [
    {
     "name": "stdout",
     "output_type": "stream",
     "text": [
      "Data Type : int64\n"
     ]
    }
   ],
   "source": [
    "import numpy as np\n",
    "\n",
    "var = np.array([1,2,3,4,5])\n",
    "print(\"Data Type :\",var.dtype)\n"
   ]
  },
  {
   "cell_type": "markdown",
   "id": "0a6e126b",
   "metadata": {},
   "source": [
    "### Float"
   ]
  },
  {
   "cell_type": "code",
   "execution_count": 45,
   "id": "7687c354",
   "metadata": {},
   "outputs": [
    {
     "name": "stdout",
     "output_type": "stream",
     "text": [
      "Data Type : float64\n"
     ]
    }
   ],
   "source": [
    "var2 = np.array([1.0,1.2,1.5,1.8,4.2,2.1])\n",
    "print(\"Data Type :\",var2.dtype)"
   ]
  },
  {
   "cell_type": "markdown",
   "id": "e509052c",
   "metadata": {},
   "source": [
    "### String"
   ]
  },
  {
   "cell_type": "code",
   "execution_count": 46,
   "id": "c8279737",
   "metadata": {},
   "outputs": [
    {
     "name": "stdout",
     "output_type": "stream",
     "text": [
      "Data Type : <U10\n"
     ]
    }
   ],
   "source": [
    "var3 = np.array([\"Apple\",\"Mango\",\"Banana\",\"Strawberry\",\"Grapes\"])\n",
    "print(\"Data Type :\",var3.dtype)"
   ]
  },
  {
   "cell_type": "code",
   "execution_count": 47,
   "id": "83c06b1b",
   "metadata": {},
   "outputs": [
    {
     "name": "stdout",
     "output_type": "stream",
     "text": [
      "Data Type : <U1\n"
     ]
    }
   ],
   "source": [
    "var4 = np.array([\"A\",\"S\",\"B\",\"T\"])\n",
    "print(\"Data Type :\",var4.dtype)"
   ]
  },
  {
   "cell_type": "markdown",
   "id": "1490b702",
   "metadata": {},
   "source": [
    "### String and Integer"
   ]
  },
  {
   "cell_type": "code",
   "execution_count": 48,
   "id": "370b476c",
   "metadata": {},
   "outputs": [
    {
     "name": "stdout",
     "output_type": "stream",
     "text": [
      "Data Type : <U21\n"
     ]
    }
   ],
   "source": [
    "var5 = np.array([\"A\",\"S\",\"B\",\"T\",1,2,3,4])\n",
    "print(\"Data Type :\",var5.dtype)"
   ]
  },
  {
   "cell_type": "markdown",
   "id": "bfdf4781",
   "metadata": {},
   "source": [
    "# Conversion Of Data Types"
   ]
  },
  {
   "cell_type": "markdown",
   "id": "a06f8c56",
   "metadata": {},
   "source": [
    "### Integer To Integer"
   ]
  },
  {
   "cell_type": "code",
   "execution_count": 49,
   "id": "611eae8a",
   "metadata": {},
   "outputs": [
    {
     "name": "stdout",
     "output_type": "stream",
     "text": [
      "Data Type : int8\n"
     ]
    }
   ],
   "source": [
    "x = np.array([1,2,3,4],dtype = np.int8)\n",
    "print(\"Data Type :\",x.dtype)"
   ]
  },
  {
   "cell_type": "markdown",
   "id": "3e7776f7",
   "metadata": {},
   "source": [
    "### Integer To Float"
   ]
  },
  {
   "cell_type": "code",
   "execution_count": 50,
   "id": "f274f4e8",
   "metadata": {},
   "outputs": [
    {
     "name": "stdout",
     "output_type": "stream",
     "text": [
      "Data Type : float32\n",
      "[1. 2. 3. 4.]\n"
     ]
    }
   ],
   "source": [
    "x1 = np.array([1,2,3,4],dtype = \"f\")\n",
    "print(\"Data Type :\",x1.dtype)\n",
    "print(x1)"
   ]
  },
  {
   "cell_type": "code",
   "execution_count": 51,
   "id": "109419f5",
   "metadata": {},
   "outputs": [
    {
     "name": "stdout",
     "output_type": "stream",
     "text": [
      "Data Type : int64\n",
      "Data Type : float32\n",
      "[1 2 3 4]\n",
      "[1. 2. 3. 4.]\n"
     ]
    }
   ],
   "source": [
    "# As a function\n",
    "\n",
    "x2 = np.array([1,2,3,4])\n",
    "\n",
    "new = np.float32(x2)\n",
    "\n",
    "print(\"Data Type :\",x2.dtype)\n",
    "print(\"Data Type :\",new.dtype)\n",
    "\n",
    "print(x2)\n",
    "print(new)"
   ]
  },
  {
   "cell_type": "markdown",
   "id": "5f5442c7",
   "metadata": {},
   "source": [
    "### Integer to Float to Integer"
   ]
  },
  {
   "cell_type": "code",
   "execution_count": 52,
   "id": "9ecefeb5",
   "metadata": {},
   "outputs": [
    {
     "name": "stdout",
     "output_type": "stream",
     "text": [
      "Data Type : int64\n",
      "Data Type : float32\n",
      "Data Type : int64\n",
      "[1 2 3 4]\n",
      "[1. 2. 3. 4.]\n",
      "[1 2 3 4]\n"
     ]
    }
   ],
   "source": [
    "x3 = np.array([1,2,3,4])\n",
    "\n",
    "new = np.float32(x3)\n",
    "new_one = np.int64(x3)\n",
    "\n",
    "print(\"Data Type :\",x3.dtype)\n",
    "print(\"Data Type :\",new.dtype)\n",
    "print(\"Data Type :\",new_one.dtype)\n",
    "\n",
    "print(x3)\n",
    "print(new)\n",
    "print(new_one)"
   ]
  },
  {
   "cell_type": "markdown",
   "id": "ceb13b48",
   "metadata": {},
   "source": [
    "### Directly Conversion"
   ]
  },
  {
   "cell_type": "code",
   "execution_count": 53,
   "id": "ddb87a81",
   "metadata": {},
   "outputs": [
    {
     "name": "stdout",
     "output_type": "stream",
     "text": [
      "[1 2 3 4]\n",
      "[1. 2. 3. 4.]\n"
     ]
    }
   ],
   "source": [
    "x4 = np.array([1,2,3,4])\n",
    "\n",
    "new_1 = x3.astype(float)\n",
    "\n",
    "print(x4)\n",
    "print(new_1)"
   ]
  }
 ],
 "metadata": {
  "kernelspec": {
   "display_name": "venv",
   "language": "python",
   "name": "python3"
  },
  "language_info": {
   "codemirror_mode": {
    "name": "ipython",
    "version": 3
   },
   "file_extension": ".py",
   "mimetype": "text/x-python",
   "name": "python",
   "nbconvert_exporter": "python",
   "pygments_lexer": "ipython3",
   "version": "3.13.7"
  }
 },
 "nbformat": 4,
 "nbformat_minor": 5
}
