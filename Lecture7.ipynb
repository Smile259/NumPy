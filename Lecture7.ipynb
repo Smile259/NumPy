{
 "cells": [
  {
   "cell_type": "markdown",
   "id": "42aeb26b",
   "metadata": {},
   "source": [
    "# Arithmetic Operations "
   ]
  },
  {
   "cell_type": "markdown",
   "id": "466a56cb",
   "metadata": {},
   "source": [
    "### One Dimensional Array"
   ]
  },
  {
   "cell_type": "code",
   "execution_count": 87,
   "id": "96e61c55",
   "metadata": {},
   "outputs": [
    {
     "name": "stdout",
     "output_type": "stream",
     "text": [
      "[4 5 6 7]\n"
     ]
    }
   ],
   "source": [
    "import numpy as np \n",
    "\n",
    "var = np.array([1,2,3,4])\n",
    "\n",
    "varadd = np.add(var,3)\n",
    "\n",
    "print(varadd)"
   ]
  },
  {
   "cell_type": "code",
   "execution_count": 88,
   "id": "43cd4729",
   "metadata": {},
   "outputs": [
    {
     "name": "stdout",
     "output_type": "stream",
     "text": [
      "[ 6  8 10 12]\n"
     ]
    }
   ],
   "source": [
    "var = np.array([1,2,3,4])\n",
    "var1 = np.array([5,6,7,8])\n",
    "\n",
    "varadd_1 = np.add(var,var1)\n",
    "\n",
    "print(varadd_1)"
   ]
  },
  {
   "cell_type": "code",
   "execution_count": 89,
   "id": "1ac1f49d",
   "metadata": {},
   "outputs": [
    {
     "name": "stdout",
     "output_type": "stream",
     "text": [
      "[-2 -1  0  1]\n"
     ]
    }
   ],
   "source": [
    "var = np.array([1,2,3,4])\n",
    "\n",
    "varsubtract = np.subtract(var,3)\n",
    "\n",
    "print(varsubtract)"
   ]
  },
  {
   "cell_type": "code",
   "execution_count": 90,
   "id": "9ed8ce6a",
   "metadata": {},
   "outputs": [
    {
     "name": "stdout",
     "output_type": "stream",
     "text": [
      "[-4 -4 -4 -4]\n"
     ]
    }
   ],
   "source": [
    "var = np.array([1,2,3,4])\n",
    "var1 = np.array([5,6,7,8])\n",
    "\n",
    "varsubtarct_1 = np.subtract(var,var1)\n",
    "\n",
    "print(varsubtarct_1)"
   ]
  },
  {
   "cell_type": "code",
   "execution_count": 91,
   "id": "e7a1e627",
   "metadata": {},
   "outputs": [
    {
     "name": "stdout",
     "output_type": "stream",
     "text": [
      "[ 3  6  9 12]\n"
     ]
    }
   ],
   "source": [
    "var = np.array([1,2,3,4])\n",
    "\n",
    "varmultiply = np.multiply(var,3)\n",
    "\n",
    "print(varmultiply)"
   ]
  },
  {
   "cell_type": "code",
   "execution_count": 92,
   "id": "d941752f",
   "metadata": {},
   "outputs": [
    {
     "name": "stdout",
     "output_type": "stream",
     "text": [
      "[0.33333333 0.66666667 1.         1.33333333]\n"
     ]
    }
   ],
   "source": [
    "var = np.array([1,2,3,4])\n",
    "\n",
    "vardivide = np.divide(var,3)\n",
    "\n",
    "print(vardivide)"
   ]
  },
  {
   "cell_type": "code",
   "execution_count": 93,
   "id": "9b504626",
   "metadata": {},
   "outputs": [
    {
     "name": "stdout",
     "output_type": "stream",
     "text": [
      "[1 2 0 1]\n"
     ]
    }
   ],
   "source": [
    "var = np.array([1,2,3,4])\n",
    "\n",
    "varmod = np.mod(var,3)\n",
    "\n",
    "print(varmod)"
   ]
  },
  {
   "cell_type": "code",
   "execution_count": 94,
   "id": "fbcee935",
   "metadata": {},
   "outputs": [
    {
     "name": "stdout",
     "output_type": "stream",
     "text": [
      "[ 1  8 27 64]\n"
     ]
    }
   ],
   "source": [
    "var = np.array([1,2,3,4])\n",
    "\n",
    "varpower = np.power(var,3)\n",
    "\n",
    "print(varpower )"
   ]
  },
  {
   "cell_type": "code",
   "execution_count": 95,
   "id": "14fca303",
   "metadata": {},
   "outputs": [
    {
     "name": "stdout",
     "output_type": "stream",
     "text": [
      "[1 0 0 0]\n"
     ]
    }
   ],
   "source": [
    "var = np.array([1,2,3,4])\n",
    "\n",
    "varreciprocal = np.reciprocal(var)\n",
    "\n",
    "print(varreciprocal)"
   ]
  },
  {
   "cell_type": "markdown",
   "id": "7fb2701e",
   "metadata": {},
   "source": [
    "### Two Dimensional Array"
   ]
  },
  {
   "cell_type": "code",
   "execution_count": 96,
   "id": "1839d405",
   "metadata": {},
   "outputs": [
    {
     "name": "stdout",
     "output_type": "stream",
     "text": [
      "[[ 7  8  9 10]\n",
      " [11 12 13 14]]\n"
     ]
    }
   ],
   "source": [
    "var2 = np.array([[1,2,3,4],[5,6,7,8]])\n",
    "\n",
    "varadd_2 = np.add(var2,6)\n",
    "\n",
    "print(varadd_2)"
   ]
  },
  {
   "cell_type": "code",
   "execution_count": 97,
   "id": "46b3e422",
   "metadata": {},
   "outputs": [
    {
     "name": "stdout",
     "output_type": "stream",
     "text": [
      "[[10 20 30 40]\n",
      " [50 60 70 80]]\n",
      "\n",
      "[[11 12 13 14]\n",
      " [15 16 17 18]]\n",
      "\n",
      "[[21 32 43 54]\n",
      " [65 76 87 98]]\n"
     ]
    }
   ],
   "source": [
    "var3 = np.array([[10,20,30,40],[50,60,70,80]])\n",
    "var4 = np.array([[11,12,13,14],[15,16,17,18]])\n",
    "\n",
    "varadd_3 = np.add(var3,var4)\n",
    "\n",
    "print(var3)\n",
    "print()\n",
    "print(var4)\n",
    "print()\n",
    "print(varadd_3)"
   ]
  },
  {
   "cell_type": "code",
   "execution_count": 98,
   "id": "2e8d57d3",
   "metadata": {},
   "outputs": [
    {
     "name": "stdout",
     "output_type": "stream",
     "text": [
      "[[-5 -4 -3 -2]\n",
      " [-1  0  1  2]]\n"
     ]
    }
   ],
   "source": [
    "var2 = np.array([[1,2,3,4],[5,6,7,8]])\n",
    "\n",
    "varsubtract_2 = np.subtract(var2,6)\n",
    "\n",
    "print(varsubtract_2)"
   ]
  },
  {
   "cell_type": "code",
   "execution_count": 99,
   "id": "d480a6a0",
   "metadata": {},
   "outputs": [
    {
     "name": "stdout",
     "output_type": "stream",
     "text": [
      "[[10 20 30 40]\n",
      " [50 60 70 80]]\n",
      "\n",
      "[[11 12 13 14]\n",
      " [15 16 17 18]]\n",
      "\n",
      "[[-1  8 17 26]\n",
      " [35 44 53 62]]\n"
     ]
    }
   ],
   "source": [
    "var3 = np.array([[10,20,30,40],[50,60,70,80]])\n",
    "var4 = np.array([[11,12,13,14],[15,16,17,18]])\n",
    "\n",
    "varsub_3 = np.subtract(var3,var4)\n",
    "\n",
    "print(var3)\n",
    "print()\n",
    "print(var4)\n",
    "print()\n",
    "print(varsub_3)"
   ]
  },
  {
   "cell_type": "code",
   "execution_count": 100,
   "id": "9912ef26",
   "metadata": {},
   "outputs": [
    {
     "name": "stdout",
     "output_type": "stream",
     "text": [
      "[[ 6 12 18 24]\n",
      " [30 36 42 48]]\n"
     ]
    }
   ],
   "source": [
    "var2 = np.array([[1,2,3,4],[5,6,7,8]])\n",
    "\n",
    "varmultiply_1 = np.multiply(var2,6)\n",
    "\n",
    "print(varmultiply_1)"
   ]
  },
  {
   "cell_type": "code",
   "execution_count": 101,
   "id": "33e25d19",
   "metadata": {},
   "outputs": [
    {
     "name": "stdout",
     "output_type": "stream",
     "text": [
      "[[10 20 30 40]\n",
      " [50 60 70 80]]\n",
      "\n",
      "[[11 12 13 14]\n",
      " [15 16 17 18]]\n",
      "\n",
      "[[ 110  240  390  560]\n",
      " [ 750  960 1190 1440]]\n"
     ]
    }
   ],
   "source": [
    "var3 = np.array([[10,20,30,40],[50,60,70,80]])\n",
    "var4 = np.array([[11,12,13,14],[15,16,17,18]])\n",
    "\n",
    "varmultiply_3 = np.multiply(var3,var4)\n",
    "\n",
    "print(var3)\n",
    "print()\n",
    "print(var4)\n",
    "print()\n",
    "print(varmultiply_3)"
   ]
  },
  {
   "cell_type": "code",
   "execution_count": 102,
   "id": "3afb8ab2",
   "metadata": {},
   "outputs": [
    {
     "name": "stdout",
     "output_type": "stream",
     "text": [
      "[[0.16666667 0.33333333 0.5        0.66666667]\n",
      " [0.83333333 1.         1.16666667 1.33333333]]\n"
     ]
    }
   ],
   "source": [
    "var2 = np.array([[1,2,3,4],[5,6,7,8]])\n",
    "\n",
    "vardivide_1 = np.divide(var2,6)\n",
    "\n",
    "print(vardivide_1)"
   ]
  },
  {
   "cell_type": "code",
   "execution_count": 103,
   "id": "a909fef7",
   "metadata": {},
   "outputs": [
    {
     "name": "stdout",
     "output_type": "stream",
     "text": [
      "[[10 20 30 40]\n",
      " [50 60 70 80]]\n",
      "\n",
      "[[11 12 13 14]\n",
      " [15 16 17 18]]\n",
      "\n",
      "[[0.90909091 1.66666667 2.30769231 2.85714286]\n",
      " [3.33333333 3.75       4.11764706 4.44444444]]\n"
     ]
    }
   ],
   "source": [
    "var3 = np.array([[10,20,30,40],[50,60,70,80]])\n",
    "var4 = np.array([[11,12,13,14],[15,16,17,18]])\n",
    "\n",
    "vardivide_3 = np.divide(var3,var4)\n",
    "\n",
    "print(var3)\n",
    "print()\n",
    "print(var4)\n",
    "print()\n",
    "print(vardivide_3)"
   ]
  },
  {
   "cell_type": "code",
   "execution_count": 104,
   "id": "52df7a50",
   "metadata": {},
   "outputs": [
    {
     "name": "stdout",
     "output_type": "stream",
     "text": [
      "[[1 2 3 4]\n",
      " [5 0 1 2]]\n"
     ]
    }
   ],
   "source": [
    "var2 = np.array([[1,2,3,4],[5,6,7,8]])\n",
    "\n",
    "varmod_1 = np.mod(var2,6)\n",
    "\n",
    "print(varmod_1)"
   ]
  },
  {
   "cell_type": "code",
   "execution_count": 105,
   "id": "d6641404",
   "metadata": {},
   "outputs": [
    {
     "name": "stdout",
     "output_type": "stream",
     "text": [
      "[[     1     64    729   4096]\n",
      " [ 15625  46656 117649 262144]]\n"
     ]
    }
   ],
   "source": [
    "var2 = np.array([[1,2,3,4],[5,6,7,8]])\n",
    "\n",
    "varpower_1 = np.power(var2,6)\n",
    "\n",
    "print(varpower_1)"
   ]
  },
  {
   "cell_type": "code",
   "execution_count": 106,
   "id": "bd0d7c76",
   "metadata": {},
   "outputs": [
    {
     "name": "stdout",
     "output_type": "stream",
     "text": [
      "[[1 0 0 0]\n",
      " [0 0 0 0]]\n"
     ]
    }
   ],
   "source": [
    "var2 = np.array([[1,2,3,4],[5,6,7,8]])\n",
    "\n",
    "varreciprocal_1 = np.reciprocal(var2)\n",
    "\n",
    "print(varreciprocal_1)"
   ]
  }
 ],
 "metadata": {
  "kernelspec": {
   "display_name": "venv",
   "language": "python",
   "name": "python3"
  },
  "language_info": {
   "codemirror_mode": {
    "name": "ipython",
    "version": 3
   },
   "file_extension": ".py",
   "mimetype": "text/x-python",
   "name": "python",
   "nbconvert_exporter": "python",
   "pygments_lexer": "ipython3",
   "version": "3.13.7"
  }
 },
 "nbformat": 4,
 "nbformat_minor": 5
}
