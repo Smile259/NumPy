{
 "cells": [
  {
   "cell_type": "markdown",
   "id": "00d58536",
   "metadata": {},
   "source": [
    "# Broadcasting"
   ]
  },
  {
   "cell_type": "code",
   "execution_count": 18,
   "id": "d00c66db",
   "metadata": {},
   "outputs": [
    {
     "name": "stdout",
     "output_type": "stream",
     "text": [
      "[1 2 3 4]\n",
      "(4,)\n",
      "\n",
      "[1 2 3 4]\n",
      "(4,)\n",
      "\n",
      "[2 4 6 8]\n"
     ]
    }
   ],
   "source": [
    "import numpy as np\n",
    "\n",
    "var1 = np.array([1,2,3,4])\n",
    "print(var1)\n",
    "print(var1.shape)\n",
    "print()\n",
    "\n",
    "var2 = np.array([1,2,3,4])\n",
    "print(var2)\n",
    "print(var2.shape)\n",
    "print()\n",
    "\n",
    "print(var1 + var2)"
   ]
  },
  {
   "cell_type": "code",
   "execution_count": 19,
   "id": "0a8266e5",
   "metadata": {},
   "outputs": [
    {
     "name": "stdout",
     "output_type": "stream",
     "text": [
      "[1 2 3]\n",
      "(3,)\n",
      "\n",
      "[[1]\n",
      " [2]\n",
      " [3]]\n",
      "(3, 1)\n",
      "\n",
      "[[2 3 4]\n",
      " [3 4 5]\n",
      " [4 5 6]]\n"
     ]
    }
   ],
   "source": [
    "var3 = np.array([1,2,3])\n",
    "print(var3)\n",
    "print(var3.shape)\n",
    "print()\n",
    "\n",
    "var4 = np.array([[1],[2],[3]])\n",
    "print(var4)\n",
    "print(var4.shape)\n",
    "print()\n",
    "\n",
    "print(var3 + var4)"
   ]
  },
  {
   "cell_type": "code",
   "execution_count": 20,
   "id": "3cfe84e2",
   "metadata": {},
   "outputs": [
    {
     "name": "stdout",
     "output_type": "stream",
     "text": [
      "[[1]\n",
      " [2]]\n",
      "(2, 1)\n",
      "\n",
      "[[1 2 3]\n",
      " [4 5 6]]\n",
      "(2, 3)\n",
      "\n",
      "[[2 3 4]\n",
      " [6 7 8]]\n"
     ]
    }
   ],
   "source": [
    "x = np.array([[1],[2]])\n",
    "print(x)\n",
    "print(x.shape)\n",
    "print()\n",
    "\n",
    "y = np.array([[1,2,3],[4,5,6]])\n",
    "print(y)\n",
    "print(y.shape)\n",
    "print()\n",
    "\n",
    "print(x+y)"
   ]
  }
 ],
 "metadata": {
  "kernelspec": {
   "display_name": "venv",
   "language": "python",
   "name": "python3"
  },
  "language_info": {
   "codemirror_mode": {
    "name": "ipython",
    "version": 3
   },
   "file_extension": ".py",
   "mimetype": "text/x-python",
   "name": "python",
   "nbconvert_exporter": "python",
   "pygments_lexer": "ipython3",
   "version": "3.13.7"
  }
 },
 "nbformat": 4,
 "nbformat_minor": 5
}
