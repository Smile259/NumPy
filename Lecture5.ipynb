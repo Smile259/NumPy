{
 "cells": [
  {
   "cell_type": "markdown",
   "id": "24b5a605",
   "metadata": {},
   "source": [
    "# Random "
   ]
  },
  {
   "cell_type": "markdown",
   "id": "92f6fc98",
   "metadata": {},
   "source": [
    "### Rand()"
   ]
  },
  {
   "cell_type": "code",
   "execution_count": 21,
   "id": "90913500",
   "metadata": {},
   "outputs": [
    {
     "name": "stdout",
     "output_type": "stream",
     "text": [
      "[0.42872986 0.00627626 0.23383311 0.97496777]\n"
     ]
    }
   ],
   "source": [
    "import numpy as np\n",
    "\n",
    "var = np.random.rand(4)\n",
    "print(var)"
   ]
  },
  {
   "cell_type": "code",
   "execution_count": 22,
   "id": "53b8eeaf",
   "metadata": {},
   "outputs": [
    {
     "name": "stdout",
     "output_type": "stream",
     "text": [
      "[[0.27068032 0.16856368 0.2490428  0.33918812 0.0083395 ]\n",
      " [0.34942457 0.55739961 0.64652137 0.11011689 0.3116893 ]\n",
      " [0.86351609 0.96278129 0.82458352 0.2585005  0.47462466]]\n"
     ]
    }
   ],
   "source": [
    "var1 = np.random.rand(3,5)\n",
    "print(var1)"
   ]
  },
  {
   "cell_type": "markdown",
   "id": "17ae96c1",
   "metadata": {},
   "source": [
    "### Randn()"
   ]
  },
  {
   "cell_type": "code",
   "execution_count": 23,
   "id": "15b27372",
   "metadata": {},
   "outputs": [
    {
     "name": "stdout",
     "output_type": "stream",
     "text": [
      "[[ 1.39944348 -1.24350178  0.91773753 -0.22208251  0.24159759 -0.25254937]\n",
      " [-1.43057044  1.54666041 -0.47992719 -0.47349326 -0.87135905 -0.59247794]\n",
      " [-1.50539959  0.47274584 -0.04610349 -0.15461181 -2.45303249  0.20240958]\n",
      " [-0.59777345  1.07251498 -0.33047587 -0.62509392 -3.10275435 -0.36340137]\n",
      " [-0.61471903 -0.7576559  -0.23715091 -1.19749317  0.51868928  1.00624078]]\n"
     ]
    }
   ],
   "source": [
    "var2 = np.random.randn(5,6)\n",
    "print(var2)"
   ]
  },
  {
   "cell_type": "markdown",
   "id": "a61926c0",
   "metadata": {},
   "source": [
    "### Ranf()"
   ]
  },
  {
   "cell_type": "code",
   "execution_count": 26,
   "id": "c849f4c5",
   "metadata": {},
   "outputs": [
    {
     "name": "stdout",
     "output_type": "stream",
     "text": [
      "[0.40366454 0.48784048 0.87632635 0.4511243 ]\n"
     ]
    }
   ],
   "source": [
    "var3 = np.random.ranf(4)\n",
    "print(var3)"
   ]
  },
  {
   "cell_type": "markdown",
   "id": "0c164e39",
   "metadata": {},
   "source": [
    "### Randint"
   ]
  },
  {
   "cell_type": "code",
   "execution_count": 28,
   "id": "37add609",
   "metadata": {},
   "outputs": [
    {
     "name": "stdout",
     "output_type": "stream",
     "text": [
      "[ 9 16 11 13 12]\n"
     ]
    }
   ],
   "source": [
    "var4 = np.random.randint(0,20,5)   #randint(min,max,total value)\n",
    "print(var4)"
   ]
  }
 ],
 "metadata": {
  "kernelspec": {
   "display_name": "venv",
   "language": "python",
   "name": "python3"
  },
  "language_info": {
   "codemirror_mode": {
    "name": "ipython",
    "version": 3
   },
   "file_extension": ".py",
   "mimetype": "text/x-python",
   "name": "python",
   "nbconvert_exporter": "python",
   "pygments_lexer": "ipython3",
   "version": "3.13.7"
  }
 },
 "nbformat": 4,
 "nbformat_minor": 5
}
