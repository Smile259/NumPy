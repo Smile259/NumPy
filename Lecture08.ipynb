{
 "cells": [
  {
   "cell_type": "markdown",
   "id": "3b791d91",
   "metadata": {},
   "source": [
    "# Basic Arithmetic Functions"
   ]
  },
  {
   "cell_type": "code",
   "execution_count": 12,
   "id": "e1efe211",
   "metadata": {},
   "outputs": [
    {
     "name": "stdout",
     "output_type": "stream",
     "text": [
      "min :  1\n"
     ]
    }
   ],
   "source": [
    "import numpy as np\n",
    "\n",
    "var = np.array([1,2,3,4,5,3,2])\n",
    "\n",
    "print(\"min : \",np.min(var))"
   ]
  },
  {
   "cell_type": "code",
   "execution_count": 13,
   "id": "d4f55d64",
   "metadata": {},
   "outputs": [
    {
     "name": "stdout",
     "output_type": "stream",
     "text": [
      "max :  5\n"
     ]
    }
   ],
   "source": [
    "var = np.array([1,2,3,4,5,3,2])\n",
    "\n",
    "print(\"max : \",np.max(var))"
   ]
  },
  {
   "cell_type": "code",
   "execution_count": 15,
   "id": "4ed32823",
   "metadata": {},
   "outputs": [
    {
     "name": "stdout",
     "output_type": "stream",
     "text": [
      "min :  1 0\n",
      "max :  5 4\n"
     ]
    }
   ],
   "source": [
    "var = np.array([1,2,3,4,5,3,2])\n",
    "\n",
    "print(\"min : \",np.min(var),np.argmin(var))\n",
    "print(\"max : \",np.max(var),np.argmax(var))"
   ]
  },
  {
   "cell_type": "code",
   "execution_count": 18,
   "id": "fb3cc5a3",
   "metadata": {},
   "outputs": [
    {
     "name": "stdout",
     "output_type": "stream",
     "text": [
      "[1 5]\n",
      "[2 1 3]\n"
     ]
    }
   ],
   "source": [
    "var1 = np.array([[2,1,3],[9,5,6]])\n",
    "\n",
    "print(np.min(var1,axis=1))    # axis=0 along column and axis=1 along row\n",
    "print(np.min(var1,axis=0)) "
   ]
  },
  {
   "cell_type": "code",
   "execution_count": 8,
   "id": "6f19593e",
   "metadata": {},
   "outputs": [
    {
     "name": "stdout",
     "output_type": "stream",
     "text": [
      "[1.         1.41421356 1.73205081 2.         2.23606798 1.73205081\n",
      " 1.41421356]\n"
     ]
    }
   ],
   "source": [
    "var = np.array([1,2,3,4,5,3,2])\n",
    "\n",
    "print(np.sqrt(var))"
   ]
  },
  {
   "cell_type": "code",
   "execution_count": 9,
   "id": "fcba2764",
   "metadata": {},
   "outputs": [
    {
     "name": "stdout",
     "output_type": "stream",
     "text": [
      "[ 0.84147098  0.90929743  0.14112001 -0.7568025  -0.95892427  0.14112001\n",
      "  0.90929743]\n"
     ]
    }
   ],
   "source": [
    "var = np.array([1,2,3,4,5,3,2])\n",
    "\n",
    "print(np.sin(var))"
   ]
  },
  {
   "cell_type": "code",
   "execution_count": 10,
   "id": "35d7323e",
   "metadata": {},
   "outputs": [
    {
     "name": "stdout",
     "output_type": "stream",
     "text": [
      "[ 0.54030231 -0.41614684 -0.9899925  -0.65364362  0.28366219 -0.9899925\n",
      " -0.41614684]\n"
     ]
    }
   ],
   "source": [
    "var = np.array([1,2,3,4,5,3,2])\n",
    "\n",
    "print(np.cos(var))"
   ]
  },
  {
   "cell_type": "code",
   "execution_count": 11,
   "id": "c209c9e1",
   "metadata": {},
   "outputs": [
    {
     "name": "stdout",
     "output_type": "stream",
     "text": [
      "[ 1  3  6 10 15 18 20]\n"
     ]
    }
   ],
   "source": [
    "var = np.array([1,2,3,4,5,3,2])\n",
    "\n",
    "print(np.cumsum(var))"
   ]
  }
 ],
 "metadata": {
  "kernelspec": {
   "display_name": "venv",
   "language": "python",
   "name": "python3"
  },
  "language_info": {
   "codemirror_mode": {
    "name": "ipython",
    "version": 3
   },
   "file_extension": ".py",
   "mimetype": "text/x-python",
   "name": "python",
   "nbconvert_exporter": "python",
   "pygments_lexer": "ipython3",
   "version": "3.13.7"
  }
 },
 "nbformat": 4,
 "nbformat_minor": 5
}
